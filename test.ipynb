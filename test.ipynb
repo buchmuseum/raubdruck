{
 "cells": [
  {
   "cell_type": "code",
   "execution_count": 10,
   "metadata": {},
   "outputs": [
    {
     "name": "stdout",
     "output_type": "stream",
     "text": [
      "Die bereinigten Einträge wurden erfolgreich in 'ergebnisse.xlsx' gespeichert.\n"
     ]
    }
   ],
   "source": [
    "import re\n",
    "import pandas as pd\n",
    "\n",
    "def extract_entries(text):\n",
    "    entries = []\n",
    "\n",
    "    # Aktualisiertes Regex-Muster\n",
    "    entry_pattern = re.compile(\n",
    "        r'(\\d+)\\s*(.+?):\\s*(.*?)\\.\\s*([^:\\n]+):\\s*([^\\d,]+),?\\s*(\\d{4})\\.'\n",
    "    )\n",
    "#Erklärung der Logik:\n",
    "#(\\d+): Erfasst die Eintragsnummer.\n",
    "#([\\w\\s,]+?): Erfasst alles bis zum ersten Doppelpunkt als Autor.\n",
    "#Danach:\n",
    "#\\s*(.*?)\\.: Erfasst den Titel bis zum ersten Punkt.\n",
    "#([^:\\n]+):: Erfasst den Standort oder den Verleger bis zum nächsten Doppelpunkt.\n",
    "#([^\\d,]+): Erfasst zusätzliche Details.\n",
    "#(\\d{4})\\.: Erfasst das Jahr.\n",
    "    \n",
    "    # Text in Einträge aufteilen basierend auf dem Muster Nummer + Leerzeichen\n",
    "    sections = re.split(r'\\n{2,}|\\n(?=\\d{1,3} )', text)\n",
    "    \n",
    "    for section in sections:\n",
    "        # Suche nach dem Eintrag-Muster in jedem Abschnitt\n",
    "        match = entry_pattern.search(section)\n",
    "        if match:\n",
    "            author = match.group(2).strip()\n",
    "\n",
    "            # Korrektur: Entferne offensichtliche Fehler bei Autoren\n",
    "            if author.lower() in [\"in\", \"inhalt\", \"berlin\", \"die arbeit\", \"n\"]:\n",
    "                continue  # Überspringe fehlerhafte Einträge\n",
    "\n",
    "            entry = {\n",
    "                'Author': author,\n",
    "                'Title': match.group(3).strip(),\n",
    "                'Location and Publisher': f\"{match.group(4).strip()}: {match.group(5).strip()}\",\n",
    "                'Year': match.group(6).strip()\n",
    "            }\n",
    "            entries.append(entry)\n",
    "    \n",
    "    return entries\n",
    "\n",
    "# Lese die hochgeladene Datei\n",
    "with open('gesamtr.txt', 'r', encoding='utf-8') as file:\n",
    "    text = file.read()\n",
    "\n",
    "# Extrahiere die Einträge\n",
    "entries = extract_entries(text)\n",
    "\n",
    "# In ein DataFrame umwandeln und in eine Excel-Datei speichern\n",
    "df = pd.DataFrame(entries)\n",
    "output_filename = 'ergebnisse.xlsx'\n",
    "df.to_excel(output_filename, index=False)\n",
    "\n",
    "print(f\"Die bereinigten Einträge wurden erfolgreich in '{output_filename}' gespeichert.\")\n"
   ]
  }
 ],
 "metadata": {
  "kernelspec": {
   "display_name": "Python 3",
   "language": "python",
   "name": "python3"
  },
  "language_info": {
   "codemirror_mode": {
    "name": "ipython",
    "version": 3
   },
   "file_extension": ".py",
   "mimetype": "text/x-python",
   "name": "python",
   "nbconvert_exporter": "python",
   "pygments_lexer": "ipython3",
   "version": "3.8.10"
  }
 },
 "nbformat": 4,
 "nbformat_minor": 2
}

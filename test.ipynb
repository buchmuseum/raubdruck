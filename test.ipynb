{
 "cells": [
  {
   "cell_type": "code",
   "execution_count": 2,
   "metadata": {},
   "outputs": [
    {
     "name": "stdout",
     "output_type": "stream",
     "text": [
      "Die Einträge wurden erfolgreich in 'extracted_entries.xlsx' gespeichert.\n"
     ]
    }
   ],
   "source": [
    "import re\n",
    "import pandas as pd\n",
    "\n",
    "def extract_entries(text):\n",
    "    entries = []\n",
    "    current_entry = {}\n",
    "    \n",
    "    # Split the text into sections. Handle entries with and without newlines before the number.\n",
    "    sections = re.split(r'\\n{2}\\d+\\n{2}|\\n(?=\\d{1,3} )', text)\n",
    "\n",
    "    # Pattern für die Einträge\n",
    "    entry_pattern = re.compile(\n",
    "        r'([A-Za-z\\s,]+):\\s*([^\\n]+)\\.\\s*(?:\\(.*?\\))?\\s*([^:]+):\\s*([^\\d,]+),?\\s*(\\d{4})\\.'\n",
    "    )\n",
    "    \n",
    "    for section in sections:\n",
    "        # Eintrag-Pattern durchsuchen\n",
    "        match = entry_pattern.search(section)\n",
    "        if match:\n",
    "            current_entry = {\n",
    "                'Author': match.group(1).strip(),\n",
    "                'Title': match.group(2).strip(),\n",
    "                'Location and Publisher': f\"{match.group(3).strip()}: {match.group(4).strip()}\",\n",
    "                'Year': match.group(5).strip()\n",
    "            }\n",
    "            entries.append(current_entry)\n",
    "    \n",
    "    return entries\n",
    "\n",
    "# Datei \"Gesamt.txt\" einlesen\n",
    "with open('Gesamt.txt', 'r', encoding='utf-8') as file:\n",
    "    text = file.read()\n",
    "\n",
    "# Einträge extrahieren\n",
    "entries = extract_entries(text)\n",
    "\n",
    "# In ein DataFrame umwandeln\n",
    "df = pd.DataFrame(entries)\n",
    "\n",
    "# DataFrame in eine Excel-Datei speichern\n",
    "output_filename = 'extracted_entries.xlsx'\n",
    "df.to_excel(output_filename, index=False)\n",
    "\n",
    "print(f\"Die Einträge wurden erfolgreich in '{output_filename}' gespeichert.\")\n",
    "\n"
   ]
  }
 ],
 "metadata": {
  "kernelspec": {
   "display_name": "Python 3",
   "language": "python",
   "name": "python3"
  },
  "language_info": {
   "codemirror_mode": {
    "name": "ipython",
    "version": 3
   },
   "file_extension": ".py",
   "mimetype": "text/x-python",
   "name": "python",
   "nbconvert_exporter": "python",
   "pygments_lexer": "ipython3",
   "version": "3.8.10"
  }
 },
 "nbformat": 4,
 "nbformat_minor": 2
}
